{
  "nbformat": 4,
  "nbformat_minor": 0,
  "metadata": {
    "colab": {
      "provenance": [],
      "collapsed_sections": [],
      "toc_visible": true,
      "authorship_tag": "ABX9TyOcDYtEhw/fBgIUnSMZPfKG",
      "include_colab_link": true
    },
    "kernelspec": {
      "name": "python3",
      "display_name": "Python 3"
    },
    "language_info": {
      "name": "python"
    }
  },
  "cells": [
    {
      "cell_type": "markdown",
      "metadata": {
        "id": "view-in-github",
        "colab_type": "text"
      },
      "source": [
        "<a href=\"https://colab.research.google.com/github/RohitChourey/DataScience/blob/main/Random_Forest_Model.ipynb\" target=\"_parent\"><img src=\"https://colab.research.google.com/assets/colab-badge.svg\" alt=\"Open In Colab\"/></a>"
      ]
    },
    {
      "cell_type": "markdown",
      "source": [
        "## **Random Forest Model**"
      ],
      "metadata": {
        "id": "sxbIuJoeXL0L"
      }
    },
    {
      "cell_type": "code",
      "source": [
        "#DS Libraries\n",
        "import pandas as pd\n",
        "import numpy as np\n",
        "\n",
        "#Graphic Libraries\n",
        "import seaborn as sn\n",
        "import matplotlib.pyplot as plt\n",
        "%matplotlib inline\n",
        "\n",
        "#Ignore Warnings\n",
        "import warnings\n",
        "warnings.filterwarnings('ignore')"
      ],
      "metadata": {
        "id": "eY10m0oiW4K0"
      },
      "execution_count": 3,
      "outputs": []
    },
    {
      "cell_type": "code",
      "source": [
        "bank_df = pd.read_csv(\"BankMarketingData.csv\")"
      ],
      "metadata": {
        "id": "dhtj0kjLW4Xc"
      },
      "execution_count": 4,
      "outputs": []
    },
    {
      "cell_type": "code",
      "source": [
        "bank_df.head()"
      ],
      "metadata": {
        "colab": {
          "base_uri": "https://localhost:8080/",
          "height": 317
        },
        "id": "w5cALAGNW5lg",
        "outputId": "8b3041cd-3d23-4693-fede-95f5cd3d9f83"
      },
      "execution_count": 5,
      "outputs": [
        {
          "output_type": "execute_result",
          "data": {
            "text/plain": [
              "   S.No   age            job  BlueCollar  SelfEmployed  Management  \\\n",
              "0     1  59.0     unemployed         0.0           0.0         0.0   \n",
              "1     2  36.0         Others         0.0           1.0         0.0   \n",
              "2     3  47.0    blue-collar         1.0           0.0         0.0   \n",
              "3     4  43.0     management         0.0           0.0         1.0   \n",
              "4     5  34.0  self-employed         0.0           1.0         0.0   \n",
              "\n",
              "   Unemployed   marital  Divorced  Married  ... CreditDefault  balance  \\\n",
              "0         1.0   married       0.0      1.0  ...           0.0      0.0   \n",
              "1         0.0   married       0.0      1.0  ...           0.0   3057.0   \n",
              "2         0.0  divorced       1.0      0.0  ...           0.0    126.0   \n",
              "3         0.0  divorced       1.0      0.0  ...           0.0    388.0   \n",
              "4         0.0    single       0.0      0.0  ...           0.0    462.0   \n",
              "\n",
              "   housing  HousingLoan loan  PersonalLoan  campaign previous    y  \\\n",
              "0       no          0.0   no           0.0       2.0      0.0   no   \n",
              "1       no          0.0   no           0.0       4.0      0.0  yes   \n",
              "2      yes          1.0   no           0.0       2.0      0.0  yes   \n",
              "3      yes          1.0   no           0.0       2.0      0.0  yes   \n",
              "4       no          0.0   no           0.0       3.0      0.0  yes   \n",
              "\n",
              "  SubscriptionY  \n",
              "0             0  \n",
              "1             1  \n",
              "2             1  \n",
              "3             1  \n",
              "4             1  \n",
              "\n",
              "[5 rows x 25 columns]"
            ],
            "text/html": [
              "\n",
              "  <div id=\"df-1a6e073e-bb82-4af9-8b06-b3c84763b3f0\">\n",
              "    <div class=\"colab-df-container\">\n",
              "      <div>\n",
              "<style scoped>\n",
              "    .dataframe tbody tr th:only-of-type {\n",
              "        vertical-align: middle;\n",
              "    }\n",
              "\n",
              "    .dataframe tbody tr th {\n",
              "        vertical-align: top;\n",
              "    }\n",
              "\n",
              "    .dataframe thead th {\n",
              "        text-align: right;\n",
              "    }\n",
              "</style>\n",
              "<table border=\"1\" class=\"dataframe\">\n",
              "  <thead>\n",
              "    <tr style=\"text-align: right;\">\n",
              "      <th></th>\n",
              "      <th>S.No</th>\n",
              "      <th>age</th>\n",
              "      <th>job</th>\n",
              "      <th>BlueCollar</th>\n",
              "      <th>SelfEmployed</th>\n",
              "      <th>Management</th>\n",
              "      <th>Unemployed</th>\n",
              "      <th>marital</th>\n",
              "      <th>Divorced</th>\n",
              "      <th>Married</th>\n",
              "      <th>...</th>\n",
              "      <th>CreditDefault</th>\n",
              "      <th>balance</th>\n",
              "      <th>housing</th>\n",
              "      <th>HousingLoan</th>\n",
              "      <th>loan</th>\n",
              "      <th>PersonalLoan</th>\n",
              "      <th>campaign</th>\n",
              "      <th>previous</th>\n",
              "      <th>y</th>\n",
              "      <th>SubscriptionY</th>\n",
              "    </tr>\n",
              "  </thead>\n",
              "  <tbody>\n",
              "    <tr>\n",
              "      <th>0</th>\n",
              "      <td>1</td>\n",
              "      <td>59.0</td>\n",
              "      <td>unemployed</td>\n",
              "      <td>0.0</td>\n",
              "      <td>0.0</td>\n",
              "      <td>0.0</td>\n",
              "      <td>1.0</td>\n",
              "      <td>married</td>\n",
              "      <td>0.0</td>\n",
              "      <td>1.0</td>\n",
              "      <td>...</td>\n",
              "      <td>0.0</td>\n",
              "      <td>0.0</td>\n",
              "      <td>no</td>\n",
              "      <td>0.0</td>\n",
              "      <td>no</td>\n",
              "      <td>0.0</td>\n",
              "      <td>2.0</td>\n",
              "      <td>0.0</td>\n",
              "      <td>no</td>\n",
              "      <td>0</td>\n",
              "    </tr>\n",
              "    <tr>\n",
              "      <th>1</th>\n",
              "      <td>2</td>\n",
              "      <td>36.0</td>\n",
              "      <td>Others</td>\n",
              "      <td>0.0</td>\n",
              "      <td>1.0</td>\n",
              "      <td>0.0</td>\n",
              "      <td>0.0</td>\n",
              "      <td>married</td>\n",
              "      <td>0.0</td>\n",
              "      <td>1.0</td>\n",
              "      <td>...</td>\n",
              "      <td>0.0</td>\n",
              "      <td>3057.0</td>\n",
              "      <td>no</td>\n",
              "      <td>0.0</td>\n",
              "      <td>no</td>\n",
              "      <td>0.0</td>\n",
              "      <td>4.0</td>\n",
              "      <td>0.0</td>\n",
              "      <td>yes</td>\n",
              "      <td>1</td>\n",
              "    </tr>\n",
              "    <tr>\n",
              "      <th>2</th>\n",
              "      <td>3</td>\n",
              "      <td>47.0</td>\n",
              "      <td>blue-collar</td>\n",
              "      <td>1.0</td>\n",
              "      <td>0.0</td>\n",
              "      <td>0.0</td>\n",
              "      <td>0.0</td>\n",
              "      <td>divorced</td>\n",
              "      <td>1.0</td>\n",
              "      <td>0.0</td>\n",
              "      <td>...</td>\n",
              "      <td>0.0</td>\n",
              "      <td>126.0</td>\n",
              "      <td>yes</td>\n",
              "      <td>1.0</td>\n",
              "      <td>no</td>\n",
              "      <td>0.0</td>\n",
              "      <td>2.0</td>\n",
              "      <td>0.0</td>\n",
              "      <td>yes</td>\n",
              "      <td>1</td>\n",
              "    </tr>\n",
              "    <tr>\n",
              "      <th>3</th>\n",
              "      <td>4</td>\n",
              "      <td>43.0</td>\n",
              "      <td>management</td>\n",
              "      <td>0.0</td>\n",
              "      <td>0.0</td>\n",
              "      <td>1.0</td>\n",
              "      <td>0.0</td>\n",
              "      <td>divorced</td>\n",
              "      <td>1.0</td>\n",
              "      <td>0.0</td>\n",
              "      <td>...</td>\n",
              "      <td>0.0</td>\n",
              "      <td>388.0</td>\n",
              "      <td>yes</td>\n",
              "      <td>1.0</td>\n",
              "      <td>no</td>\n",
              "      <td>0.0</td>\n",
              "      <td>2.0</td>\n",
              "      <td>0.0</td>\n",
              "      <td>yes</td>\n",
              "      <td>1</td>\n",
              "    </tr>\n",
              "    <tr>\n",
              "      <th>4</th>\n",
              "      <td>5</td>\n",
              "      <td>34.0</td>\n",
              "      <td>self-employed</td>\n",
              "      <td>0.0</td>\n",
              "      <td>1.0</td>\n",
              "      <td>0.0</td>\n",
              "      <td>0.0</td>\n",
              "      <td>single</td>\n",
              "      <td>0.0</td>\n",
              "      <td>0.0</td>\n",
              "      <td>...</td>\n",
              "      <td>0.0</td>\n",
              "      <td>462.0</td>\n",
              "      <td>no</td>\n",
              "      <td>0.0</td>\n",
              "      <td>no</td>\n",
              "      <td>0.0</td>\n",
              "      <td>3.0</td>\n",
              "      <td>0.0</td>\n",
              "      <td>yes</td>\n",
              "      <td>1</td>\n",
              "    </tr>\n",
              "  </tbody>\n",
              "</table>\n",
              "<p>5 rows × 25 columns</p>\n",
              "</div>\n",
              "      <button class=\"colab-df-convert\" onclick=\"convertToInteractive('df-1a6e073e-bb82-4af9-8b06-b3c84763b3f0')\"\n",
              "              title=\"Convert this dataframe to an interactive table.\"\n",
              "              style=\"display:none;\">\n",
              "        \n",
              "  <svg xmlns=\"http://www.w3.org/2000/svg\" height=\"24px\"viewBox=\"0 0 24 24\"\n",
              "       width=\"24px\">\n",
              "    <path d=\"M0 0h24v24H0V0z\" fill=\"none\"/>\n",
              "    <path d=\"M18.56 5.44l.94 2.06.94-2.06 2.06-.94-2.06-.94-.94-2.06-.94 2.06-2.06.94zm-11 1L8.5 8.5l.94-2.06 2.06-.94-2.06-.94L8.5 2.5l-.94 2.06-2.06.94zm10 10l.94 2.06.94-2.06 2.06-.94-2.06-.94-.94-2.06-.94 2.06-2.06.94z\"/><path d=\"M17.41 7.96l-1.37-1.37c-.4-.4-.92-.59-1.43-.59-.52 0-1.04.2-1.43.59L10.3 9.45l-7.72 7.72c-.78.78-.78 2.05 0 2.83L4 21.41c.39.39.9.59 1.41.59.51 0 1.02-.2 1.41-.59l7.78-7.78 2.81-2.81c.8-.78.8-2.07 0-2.86zM5.41 20L4 18.59l7.72-7.72 1.47 1.35L5.41 20z\"/>\n",
              "  </svg>\n",
              "      </button>\n",
              "      \n",
              "  <style>\n",
              "    .colab-df-container {\n",
              "      display:flex;\n",
              "      flex-wrap:wrap;\n",
              "      gap: 12px;\n",
              "    }\n",
              "\n",
              "    .colab-df-convert {\n",
              "      background-color: #E8F0FE;\n",
              "      border: none;\n",
              "      border-radius: 50%;\n",
              "      cursor: pointer;\n",
              "      display: none;\n",
              "      fill: #1967D2;\n",
              "      height: 32px;\n",
              "      padding: 0 0 0 0;\n",
              "      width: 32px;\n",
              "    }\n",
              "\n",
              "    .colab-df-convert:hover {\n",
              "      background-color: #E2EBFA;\n",
              "      box-shadow: 0px 1px 2px rgba(60, 64, 67, 0.3), 0px 1px 3px 1px rgba(60, 64, 67, 0.15);\n",
              "      fill: #174EA6;\n",
              "    }\n",
              "\n",
              "    [theme=dark] .colab-df-convert {\n",
              "      background-color: #3B4455;\n",
              "      fill: #D2E3FC;\n",
              "    }\n",
              "\n",
              "    [theme=dark] .colab-df-convert:hover {\n",
              "      background-color: #434B5C;\n",
              "      box-shadow: 0px 1px 3px 1px rgba(0, 0, 0, 0.15);\n",
              "      filter: drop-shadow(0px 1px 2px rgba(0, 0, 0, 0.3));\n",
              "      fill: #FFFFFF;\n",
              "    }\n",
              "  </style>\n",
              "\n",
              "      <script>\n",
              "        const buttonEl =\n",
              "          document.querySelector('#df-1a6e073e-bb82-4af9-8b06-b3c84763b3f0 button.colab-df-convert');\n",
              "        buttonEl.style.display =\n",
              "          google.colab.kernel.accessAllowed ? 'block' : 'none';\n",
              "\n",
              "        async function convertToInteractive(key) {\n",
              "          const element = document.querySelector('#df-1a6e073e-bb82-4af9-8b06-b3c84763b3f0');\n",
              "          const dataTable =\n",
              "            await google.colab.kernel.invokeFunction('convertToInteractive',\n",
              "                                                     [key], {});\n",
              "          if (!dataTable) return;\n",
              "\n",
              "          const docLinkHtml = 'Like what you see? Visit the ' +\n",
              "            '<a target=\"_blank\" href=https://colab.research.google.com/notebooks/data_table.ipynb>data table notebook</a>'\n",
              "            + ' to learn more about interactive tables.';\n",
              "          element.innerHTML = '';\n",
              "          dataTable['output_type'] = 'display_data';\n",
              "          await google.colab.output.renderOutput(dataTable, element);\n",
              "          const docLink = document.createElement('div');\n",
              "          docLink.innerHTML = docLinkHtml;\n",
              "          element.appendChild(docLink);\n",
              "        }\n",
              "      </script>\n",
              "    </div>\n",
              "  </div>\n",
              "  "
            ]
          },
          "metadata": {},
          "execution_count": 5
        }
      ]
    },
    {
      "cell_type": "code",
      "source": [
        "bank_df.shape"
      ],
      "metadata": {
        "colab": {
          "base_uri": "https://localhost:8080/"
        },
        "id": "hA8IbBByW6XU",
        "outputId": "34bae2ae-dcfd-4d6a-ca8d-607ad662a2d2"
      },
      "execution_count": 6,
      "outputs": [
        {
          "output_type": "execute_result",
          "data": {
            "text/plain": [
              "(4521, 25)"
            ]
          },
          "metadata": {},
          "execution_count": 6
        }
      ]
    },
    {
      "cell_type": "code",
      "source": [
        "bank_df['SubscriptionY'].value_counts()"
      ],
      "metadata": {
        "colab": {
          "base_uri": "https://localhost:8080/"
        },
        "id": "zGgcaK_hW6mF",
        "outputId": "2c00f93a-bb4c-4786-c009-e4abcc187399"
      },
      "execution_count": 7,
      "outputs": [
        {
          "output_type": "execute_result",
          "data": {
            "text/plain": [
              "0    4000\n",
              "1     521\n",
              "Name: SubscriptionY, dtype: int64"
            ]
          },
          "metadata": {},
          "execution_count": 7
        }
      ]
    },
    {
      "cell_type": "markdown",
      "source": [
        "In term of percent we will check the value count for SubscriptionY column"
      ],
      "metadata": {
        "id": "NbosznEdcbGJ"
      }
    },
    {
      "cell_type": "code",
      "source": [
        "round(bank_df['SubscriptionY'].value_counts(normalize=True)*100,1)"
      ],
      "metadata": {
        "colab": {
          "base_uri": "https://localhost:8080/"
        },
        "id": "b2kMsD0fW6y9",
        "outputId": "b88fed3d-eaa6-4ab2-fa0f-98196c1cc00f"
      },
      "execution_count": 8,
      "outputs": [
        {
          "output_type": "execute_result",
          "data": {
            "text/plain": [
              "0    88.5\n",
              "1    11.5\n",
              "Name: SubscriptionY, dtype: float64"
            ]
          },
          "metadata": {},
          "execution_count": 8
        }
      ]
    },
    {
      "cell_type": "markdown",
      "source": [
        "**import resample from package**"
      ],
      "metadata": {
        "id": "Moqw5SiTc8uc"
      }
    },
    {
      "cell_type": "code",
      "source": [
        "from sklearn.utils import resample"
      ],
      "metadata": {
        "id": "Q_CafZq2W6-r"
      },
      "execution_count": 9,
      "outputs": []
    },
    {
      "cell_type": "code",
      "source": [
        "bank_sub_no = bank_df[bank_df.SubscriptionY == 0]\n",
        "bank_sub_yes = bank_df[bank_df.SubscriptionY == 1]"
      ],
      "metadata": {
        "id": "AK-YEMLUW7VQ"
      },
      "execution_count": 10,
      "outputs": []
    },
    {
      "cell_type": "code",
      "source": [
        "df_min_upsample = resample(bank_sub_yes, replace=True, n_samples=2000)"
      ],
      "metadata": {
        "id": "wkE4Jf74W7f1"
      },
      "execution_count": 11,
      "outputs": []
    },
    {
      "cell_type": "code",
      "source": [
        "new_bank_df = pd.concat([bank_sub_no, df_min_upsample])"
      ],
      "metadata": {
        "id": "e7NkIymVW7pH"
      },
      "execution_count": 12,
      "outputs": []
    },
    {
      "cell_type": "code",
      "source": [
        "from sklearn.utils import shuffle\n",
        "new_bank_df = shuffle(new_bank_df)"
      ],
      "metadata": {
        "id": "DMGLYWNcW7wz"
      },
      "execution_count": 13,
      "outputs": []
    },
    {
      "cell_type": "code",
      "source": [
        "new_bank_df['SubscriptionY'].value_counts()"
      ],
      "metadata": {
        "colab": {
          "base_uri": "https://localhost:8080/"
        },
        "id": "7fgv8oS3W72a",
        "outputId": "6bdc18d4-39ee-498b-8880-4be799adbd9f"
      },
      "execution_count": 14,
      "outputs": [
        {
          "output_type": "execute_result",
          "data": {
            "text/plain": [
              "0    4000\n",
              "1    2000\n",
              "Name: SubscriptionY, dtype: int64"
            ]
          },
          "metadata": {},
          "execution_count": 14
        }
      ]
    },
    {
      "cell_type": "code",
      "source": [
        "round(new_bank_df['SubscriptionY'].value_counts(normalize=True)*100,1)"
      ],
      "metadata": {
        "colab": {
          "base_uri": "https://localhost:8080/"
        },
        "id": "ACUChVMKW76q",
        "outputId": "1f446f75-3c1a-4099-a1c1-bf27a36992fe"
      },
      "execution_count": 15,
      "outputs": [
        {
          "output_type": "execute_result",
          "data": {
            "text/plain": [
              "0    66.7\n",
              "1    33.3\n",
              "Name: SubscriptionY, dtype: float64"
            ]
          },
          "metadata": {},
          "execution_count": 15
        }
      ]
    },
    {
      "cell_type": "code",
      "source": [
        "from ast import Subscript\n",
        "XX_features = list(new_bank_df.columns)\n",
        "XX_features.remove('SubscriptionY')\n",
        "X_features=list(['age','job','marital','education','default','balance','HousingLoan','PersonalLoan','campaign','previous'])\n",
        "X_features"
      ],
      "metadata": {
        "colab": {
          "base_uri": "https://localhost:8080/"
        },
        "id": "lhCfHeQsW7-b",
        "outputId": "c39e501a-5068-4a30-fe41-1c3889f0e918"
      },
      "execution_count": 16,
      "outputs": [
        {
          "output_type": "execute_result",
          "data": {
            "text/plain": [
              "['age',\n",
              " 'job',\n",
              " 'marital',\n",
              " 'education',\n",
              " 'default',\n",
              " 'balance',\n",
              " 'HousingLoan',\n",
              " 'PersonalLoan',\n",
              " 'campaign',\n",
              " 'previous']"
            ]
          },
          "metadata": {},
          "execution_count": 16
        }
      ]
    },
    {
      "cell_type": "code",
      "source": [
        "encoded_bank_df = pd.get_dummies(new_bank_df[X_features], drop_first=True)"
      ],
      "metadata": {
        "id": "xTj6GogXW8B9"
      },
      "execution_count": 17,
      "outputs": []
    },
    {
      "cell_type": "code",
      "source": [
        "X = encoded_bank_df\n",
        "Y = new_bank_df['SubscriptionY']"
      ],
      "metadata": {
        "id": "t7vslQn9W8FV"
      },
      "execution_count": 18,
      "outputs": []
    },
    {
      "cell_type": "code",
      "source": [
        "from sklearn.model_selection import train_test_split\n",
        "train_X, test_X, train_Y, test_Y = train_test_split(X,Y, test_size=0.3, random_state=42)"
      ],
      "metadata": {
        "id": "VNLDi6YtW8In"
      },
      "execution_count": 19,
      "outputs": []
    },
    {
      "cell_type": "markdown",
      "source": [
        "**Random Forest Model**"
      ],
      "metadata": {
        "id": "3M0X8pGx8XLN"
      }
    },
    {
      "cell_type": "code",
      "source": [
        "print(train_X.shape)\n",
        "print(test_X.shape)"
      ],
      "metadata": {
        "id": "H6JD5EZNW8L7",
        "colab": {
          "base_uri": "https://localhost:8080/"
        },
        "outputId": "414db8bb-e3dd-4bb7-f2b8-a4b6875da2b4"
      },
      "execution_count": 20,
      "outputs": [
        {
          "output_type": "stream",
          "name": "stdout",
          "text": [
            "(4200, 16)\n",
            "(1800, 16)\n"
          ]
        }
      ]
    },
    {
      "cell_type": "code",
      "source": [
        "from sklearn.ensemble import RandomForestClassifier"
      ],
      "metadata": {
        "id": "3jYhu5k_W8PQ"
      },
      "execution_count": 21,
      "outputs": []
    },
    {
      "cell_type": "code",
      "source": [
        "Rdf = RandomForestClassifier(max_depth=10, n_estimators = 10)\n",
        "Rdf.fit(train_X, train_Y)"
      ],
      "metadata": {
        "id": "N_i-MK_SW8Si",
        "colab": {
          "base_uri": "https://localhost:8080/"
        },
        "outputId": "79a3664c-e895-441b-e37a-4bb913fdbe00"
      },
      "execution_count": 22,
      "outputs": [
        {
          "output_type": "execute_result",
          "data": {
            "text/plain": [
              "RandomForestClassifier(max_depth=10, n_estimators=10)"
            ]
          },
          "metadata": {},
          "execution_count": 22
        }
      ]
    },
    {
      "cell_type": "code",
      "source": [
        "pred_Y = Rdf.predict(test_X)"
      ],
      "metadata": {
        "id": "N4GXUcGsW8V4"
      },
      "execution_count": 23,
      "outputs": []
    },
    {
      "cell_type": "code",
      "source": [],
      "metadata": {
        "colab": {
          "base_uri": "https://localhost:8080/"
        },
        "id": "ic_Wsxs021bp",
        "outputId": "f1796a3d-17f2-43ca-edf9-bb974f25cd1f"
      },
      "execution_count": 36,
      "outputs": [
        {
          "output_type": "execute_result",
          "data": {
            "text/plain": [
              "array([1, 0, 0, ..., 0, 0, 0])"
            ]
          },
          "metadata": {},
          "execution_count": 36
        }
      ]
    },
    {
      "cell_type": "markdown",
      "source": [
        "**Checking Accuracy of model**"
      ],
      "metadata": {
        "id": "JCQX8uxBAG_-"
      }
    },
    {
      "cell_type": "code",
      "source": [
        "from sklearn import metrics\n",
        "\n",
        "def drew_cm(actual, predicted):\n",
        "  cm = metrics.confusion_matrix(actual, predicted)\n",
        "  sn.heatmap(cm, annot=True, fmt='.2f',\n",
        "             xticklabels = ['Not Subscribed', 'Subscribed'],\n",
        "             yticklabels= ['Not Subscribed', 'Subscribed'])\n",
        "  plt.ylabel('True label')\n",
        "  plt.xlabel('Predicted label')\n",
        "  plt.show()\n"
      ],
      "metadata": {
        "id": "Pwd2GBHRW8ZR"
      },
      "execution_count": 37,
      "outputs": []
    },
    {
      "cell_type": "code",
      "source": [
        "def print_model_metrics(test_y, pred_y):\n",
        "  print(metrics.classification_report(test_y, pred_y))\n",
        "  print('accuracy= ', round(float(metrics.accuracy_score(test_y, pred_y)),2))\n",
        "  print('recall= ', round(float(metrics.recall_score(test_y, pred_y)),2))\n",
        "  print('precision= ', round(float(metrics.precision_score(test_y, pred_y)),2))\n",
        "  print('roc_auc= ', round(float(metrics.roc_auc_score(test_y, pred_y)),2))"
      ],
      "metadata": {
        "id": "NzxamqANW8cp"
      },
      "execution_count": 38,
      "outputs": []
    },
    {
      "cell_type": "code",
      "source": [
        "cm = drew_cm(test_Y, pred_Y)\n",
        "print_model_metrics(test_Y, pred_Y)"
      ],
      "metadata": {
        "id": "_MqCkciyW8fw",
        "colab": {
          "base_uri": "https://localhost:8080/",
          "height": 505
        },
        "outputId": "3817137b-6bab-4878-e9d6-21f50dcebeca"
      },
      "execution_count": 40,
      "outputs": [
        {
          "output_type": "display_data",
          "data": {
            "text/plain": [
              "<Figure size 432x288 with 2 Axes>"
            ],
            "image/png": "[encoded data removed]"
          },
          "metadata": {
            "needs_background": "light"
          }
        },
        {
          "output_type": "stream",
          "name": "stdout",
          "text": [
            "              precision    recall  f1-score   support\n",
            "\n",
            "           0       0.82      0.94      0.88      1221\n",
            "           1       0.82      0.58      0.68       579\n",
            "\n",
            "    accuracy                           0.82      1800\n",
            "   macro avg       0.82      0.76      0.78      1800\n",
            "weighted avg       0.82      0.82      0.81      1800\n",
            "\n",
            "accuracy=  0.82\n",
            "recall=  0.58\n",
            "precision=  0.82\n",
            "roc_auc=  0.76\n"
          ]
        }
      ]
    },
    {
      "cell_type": "code",
      "source": [
        "from sklearn.model_selection import GridSearchCV\n",
        "\n",
        "tuned_parameters = [{'max_depth': [10,15],\n",
        "                     'n_estimators': [10,20],\n",
        "                     'max_features': ['sqrt', 0.2]}]"
      ],
      "metadata": {
        "id": "0VKGls5CW8i5"
      },
      "execution_count": 42,
      "outputs": []
    },
    {
      "cell_type": "code",
      "source": [
        "Rdf = RandomForestClassifier()\n",
        "\n",
        "clf = GridSearchCV(Rdf, tuned_parameters, cv=5, scoring='roc_auc')\n",
        "\n",
        "clf.fit(train_X, train_Y)"
      ],
      "metadata": {
        "id": "bjN3ugw2W8mE",
        "colab": {
          "base_uri": "https://localhost:8080/"
        },
        "outputId": "2ac2b6fc-b1ee-45af-9e92-1028a82fa467"
      },
      "execution_count": 43,
      "outputs": [
        {
          "output_type": "execute_result",
          "data": {
            "text/plain": [
              "GridSearchCV(cv=5, estimator=RandomForestClassifier(),\n",
              "             param_grid=[{'max_depth': [10, 15], 'max_features': ['sqrt', 0.2],\n",
              "                          'n_estimators': [10, 20]}],\n",
              "             scoring='roc_auc')"
            ]
          },
          "metadata": {},
          "execution_count": 43
        }
      ]
    },
    {
      "cell_type": "code",
      "source": [
        "clf.best_params_"
      ],
      "metadata": {
        "id": "2q9riWuvW8pN",
        "colab": {
          "base_uri": "https://localhost:8080/"
        },
        "outputId": "9423b193-3814-443a-c334-4753bfb0a7b3"
      },
      "execution_count": 44,
      "outputs": [
        {
          "output_type": "execute_result",
          "data": {
            "text/plain": [
              "{'max_depth': 15, 'max_features': 'sqrt', 'n_estimators': 20}"
            ]
          },
          "metadata": {},
          "execution_count": 44
        }
      ]
    },
    {
      "cell_type": "code",
      "source": [
        "Rdf= RandomForestClassifier(max_depth=15, max_features=0.2, n_estimators=20)\n",
        "\n",
        "Rdf.fit(train_X, train_Y)"
      ],
      "metadata": {
        "colab": {
          "base_uri": "https://localhost:8080/"
        },
        "id": "JFH9JijO8rbN",
        "outputId": "10627565-9b19-4c34-bb0b-e6855cb1de84"
      },
      "execution_count": 46,
      "outputs": [
        {
          "output_type": "execute_result",
          "data": {
            "text/plain": [
              "RandomForestClassifier(max_depth=15, max_features=0.2, n_estimators=20)"
            ]
          },
          "metadata": {},
          "execution_count": 46
        }
      ]
    },
    {
      "cell_type": "code",
      "source": [
        "pred_Y = Rdf.predict(test_X)\n",
        "\n",
        "cm = drew_cm(test_Y, pred_Y)\n",
        "\n",
        "print_model_metrics(test_Y, pred_Y)"
      ],
      "metadata": {
        "id": "mezSIyCUW8sh",
        "colab": {
          "base_uri": "https://localhost:8080/",
          "height": 505
        },
        "outputId": "3563412a-9787-4e26-d464-3f7429647309"
      },
      "execution_count": 47,
      "outputs": [
        {
          "output_type": "display_data",
          "data": {
            "text/plain": [
              "<Figure size 432x288 with 2 Axes>"
            ],
            "image/png": "[encoded data removed]"
          },
          "metadata": {
            "needs_background": "light"
          }
        },
        {
          "output_type": "stream",
          "name": "stdout",
          "text": [
            "              precision    recall  f1-score   support\n",
            "\n",
            "           0       0.92      0.94      0.93      1221\n",
            "           1       0.86      0.82      0.84       579\n",
            "\n",
            "    accuracy                           0.90      1800\n",
            "   macro avg       0.89      0.88      0.88      1800\n",
            "weighted avg       0.90      0.90      0.90      1800\n",
            "\n",
            "accuracy=  0.9\n",
            "recall=  0.82\n",
            "precision=  0.86\n",
            "roc_auc=  0.88\n"
          ]
        }
      ]
    },
    {
      "cell_type": "code",
      "source": [
        "feature_rank = pd.DataFrame({'feature':train_X.columns,\n",
        "                             'importance':Rdf.feature_importances_})"
      ],
      "metadata": {
        "id": "3pstzqHSW8vp"
      },
      "execution_count": 50,
      "outputs": []
    },
    {
      "cell_type": "code",
      "source": [
        "feature_rank = feature_rank.sort_values('importance', ascending=False)\n",
        "sn.barplot(y = 'feature', x='importance', data=feature_rank);"
      ],
      "metadata": {
        "id": "fFKrrBqxW8yy",
        "colab": {
          "base_uri": "https://localhost:8080/",
          "height": 279
        },
        "outputId": "99c06a35-3411-4079-bfa2-e5e67ba92e2d"
      },
      "execution_count": 51,
      "outputs": [
        {
          "output_type": "display_data",
          "data": {
            "text/plain": [
              "<Figure size 432x288 with 1 Axes>"
            ],
            "image/png": "[encoded data removed]"
          },
          "metadata": {
            "needs_background": "light"
          }
        }
      ]
    },
    {
      "cell_type": "code",
      "source": [
        "feature_rank['cumsum'] = feature_rank.importance.cumsum()*100\n",
        "feature_rank.head(10)"
      ],
      "metadata": {
        "id": "YSaI4iPUW818",
        "colab": {
          "base_uri": "https://localhost:8080/",
          "height": 363
        },
        "outputId": "6ddb38af-4f8b-4638-be2a-ad719218ec1c"
      },
      "execution_count": 52,
      "outputs": [
        {
          "output_type": "execute_result",
          "data": {
            "text/plain": [
              "                feature  importance     cumsum\n",
              "1               balance    0.283586  28.358573\n",
              "0                   age    0.259722  54.330808\n",
              "4              campaign    0.116720  66.002806\n",
              "5              previous    0.101832  76.185963\n",
              "2           HousingLoan    0.040768  80.262714\n",
              "10      marital_married    0.029647  83.227428\n",
              "6       job_blue-collar    0.026162  85.843607\n",
              "3          PersonalLoan    0.023054  88.148960\n",
              "12  education_secondary    0.022183  90.367253\n",
              "7        job_management    0.020153  92.382588"
            ],
            "text/html": [
              "\n",
              "  <div id=\"df-4714ad9e-26f9-4ac8-ba6d-aa226845b1f2\">\n",
              "    <div class=\"colab-df-container\">\n",
              "      <div>\n",
              "<style scoped>\n",
              "    .dataframe tbody tr th:only-of-type {\n",
              "        vertical-align: middle;\n",
              "    }\n",
              "\n",
              "    .dataframe tbody tr th {\n",
              "        vertical-align: top;\n",
              "    }\n",
              "\n",
              "    .dataframe thead th {\n",
              "        text-align: right;\n",
              "    }\n",
              "</style>\n",
              "<table border=\"1\" class=\"dataframe\">\n",
              "  <thead>\n",
              "    <tr style=\"text-align: right;\">\n",
              "      <th></th>\n",
              "      <th>feature</th>\n",
              "      <th>importance</th>\n",
              "      <th>cumsum</th>\n",
              "    </tr>\n",
              "  </thead>\n",
              "  <tbody>\n",
              "    <tr>\n",
              "      <th>1</th>\n",
              "      <td>balance</td>\n",
              "      <td>0.283586</td>\n",
              "      <td>28.358573</td>\n",
              "    </tr>\n",
              "    <tr>\n",
              "      <th>0</th>\n",
              "      <td>age</td>\n",
              "      <td>0.259722</td>\n",
              "      <td>54.330808</td>\n",
              "    </tr>\n",
              "    <tr>\n",
              "      <th>4</th>\n",
              "      <td>campaign</td>\n",
              "      <td>0.116720</td>\n",
              "      <td>66.002806</td>\n",
              "    </tr>\n",
              "    <tr>\n",
              "      <th>5</th>\n",
              "      <td>previous</td>\n",
              "      <td>0.101832</td>\n",
              "      <td>76.185963</td>\n",
              "    </tr>\n",
              "    <tr>\n",
              "      <th>2</th>\n",
              "      <td>HousingLoan</td>\n",
              "      <td>0.040768</td>\n",
              "      <td>80.262714</td>\n",
              "    </tr>\n",
              "    <tr>\n",
              "      <th>10</th>\n",
              "      <td>marital_married</td>\n",
              "      <td>0.029647</td>\n",
              "      <td>83.227428</td>\n",
              "    </tr>\n",
              "    <tr>\n",
              "      <th>6</th>\n",
              "      <td>job_blue-collar</td>\n",
              "      <td>0.026162</td>\n",
              "      <td>85.843607</td>\n",
              "    </tr>\n",
              "    <tr>\n",
              "      <th>3</th>\n",
              "      <td>PersonalLoan</td>\n",
              "      <td>0.023054</td>\n",
              "      <td>88.148960</td>\n",
              "    </tr>\n",
              "    <tr>\n",
              "      <th>12</th>\n",
              "      <td>education_secondary</td>\n",
              "      <td>0.022183</td>\n",
              "      <td>90.367253</td>\n",
              "    </tr>\n",
              "    <tr>\n",
              "      <th>7</th>\n",
              "      <td>job_management</td>\n",
              "      <td>0.020153</td>\n",
              "      <td>92.382588</td>\n",
              "    </tr>\n",
              "  </tbody>\n",
              "</table>\n",
              "</div>\n",
              "      <button class=\"colab-df-convert\" onclick=\"convertToInteractive('df-4714ad9e-26f9-4ac8-ba6d-aa226845b1f2')\"\n",
              "              title=\"Convert this dataframe to an interactive table.\"\n",
              "              style=\"display:none;\">\n",
              "        \n",
              "  <svg xmlns=\"http://www.w3.org/2000/svg\" height=\"24px\"viewBox=\"0 0 24 24\"\n",
              "       width=\"24px\">\n",
              "    <path d=\"M0 0h24v24H0V0z\" fill=\"none\"/>\n",
              "    <path d=\"M18.56 5.44l.94 2.06.94-2.06 2.06-.94-2.06-.94-.94-2.06-.94 2.06-2.06.94zm-11 1L8.5 8.5l.94-2.06 2.06-.94-2.06-.94L8.5 2.5l-.94 2.06-2.06.94zm10 10l.94 2.06.94-2.06 2.06-.94-2.06-.94-.94-2.06-.94 2.06-2.06.94z\"/><path d=\"M17.41 7.96l-1.37-1.37c-.4-.4-.92-.59-1.43-.59-.52 0-1.04.2-1.43.59L10.3 9.45l-7.72 7.72c-.78.78-.78 2.05 0 2.83L4 21.41c.39.39.9.59 1.41.59.51 0 1.02-.2 1.41-.59l7.78-7.78 2.81-2.81c.8-.78.8-2.07 0-2.86zM5.41 20L4 18.59l7.72-7.72 1.47 1.35L5.41 20z\"/>\n",
              "  </svg>\n",
              "      </button>\n",
              "      \n",
              "  <style>\n",
              "    .colab-df-container {\n",
              "      display:flex;\n",
              "      flex-wrap:wrap;\n",
              "      gap: 12px;\n",
              "    }\n",
              "\n",
              "    .colab-df-convert {\n",
              "      background-color: #E8F0FE;\n",
              "      border: none;\n",
              "      border-radius: 50%;\n",
              "      cursor: pointer;\n",
              "      display: none;\n",
              "      fill: #1967D2;\n",
              "      height: 32px;\n",
              "      padding: 0 0 0 0;\n",
              "      width: 32px;\n",
              "    }\n",
              "\n",
              "    .colab-df-convert:hover {\n",
              "      background-color: #E2EBFA;\n",
              "      box-shadow: 0px 1px 2px rgba(60, 64, 67, 0.3), 0px 1px 3px 1px rgba(60, 64, 67, 0.15);\n",
              "      fill: #174EA6;\n",
              "    }\n",
              "\n",
              "    [theme=dark] .colab-df-convert {\n",
              "      background-color: #3B4455;\n",
              "      fill: #D2E3FC;\n",
              "    }\n",
              "\n",
              "    [theme=dark] .colab-df-convert:hover {\n",
              "      background-color: #434B5C;\n",
              "      box-shadow: 0px 1px 3px 1px rgba(0, 0, 0, 0.15);\n",
              "      filter: drop-shadow(0px 1px 2px rgba(0, 0, 0, 0.3));\n",
              "      fill: #FFFFFF;\n",
              "    }\n",
              "  </style>\n",
              "\n",
              "      <script>\n",
              "        const buttonEl =\n",
              "          document.querySelector('#df-4714ad9e-26f9-4ac8-ba6d-aa226845b1f2 button.colab-df-convert');\n",
              "        buttonEl.style.display =\n",
              "          google.colab.kernel.accessAllowed ? 'block' : 'none';\n",
              "\n",
              "        async function convertToInteractive(key) {\n",
              "          const element = document.querySelector('#df-4714ad9e-26f9-4ac8-ba6d-aa226845b1f2');\n",
              "          const dataTable =\n",
              "            await google.colab.kernel.invokeFunction('convertToInteractive',\n",
              "                                                     [key], {});\n",
              "          if (!dataTable) return;\n",
              "\n",
              "          const docLinkHtml = 'Like what you see? Visit the ' +\n",
              "            '<a target=\"_blank\" href=https://colab.research.google.com/notebooks/data_table.ipynb>data table notebook</a>'\n",
              "            + ' to learn more about interactive tables.';\n",
              "          element.innerHTML = '';\n",
              "          dataTable['output_type'] = 'display_data';\n",
              "          await google.colab.output.renderOutput(dataTable, element);\n",
              "          const docLink = document.createElement('div');\n",
              "          docLink.innerHTML = docLinkHtml;\n",
              "          element.appendChild(docLink);\n",
              "        }\n",
              "      </script>\n",
              "    </div>\n",
              "  </div>\n",
              "  "
            ]
          },
          "metadata": {},
          "execution_count": 52
        }
      ]
    },
    {
      "cell_type": "code",
      "source": [],
      "metadata": {
        "id": "TqD81FrKW85D"
      },
      "execution_count": null,
      "outputs": []
    },
    {
      "cell_type": "code",
      "source": [],
      "metadata": {
        "id": "ul1nxKrZW88E"
      },
      "execution_count": null,
      "outputs": []
    },
    {
      "cell_type": "code",
      "source": [],
      "metadata": {
        "id": "OQ-GFSQQW8_e"
      },
      "execution_count": null,
      "outputs": []
    },
    {
      "cell_type": "code",
      "source": [],
      "metadata": {
        "id": "XtwcWfjhW9Ch"
      },
      "execution_count": null,
      "outputs": []
    },
    {
      "cell_type": "code",
      "source": [],
      "metadata": {
        "id": "rbeC5wIqW9F0"
      },
      "execution_count": null,
      "outputs": []
    },
    {
      "cell_type": "code",
      "source": [],
      "metadata": {
        "id": "QYd41M17W9JH"
      },
      "execution_count": null,
      "outputs": []
    },
    {
      "cell_type": "code",
      "source": [],
      "metadata": {
        "id": "Tf87hQjxW9MY"
      },
      "execution_count": null,
      "outputs": []
    },
    {
      "cell_type": "code",
      "source": [],
      "metadata": {
        "id": "yHRSNbdXW9Ph"
      },
      "execution_count": null,
      "outputs": []
    },
    {
      "cell_type": "code",
      "source": [],
      "metadata": {
        "id": "d49BBx1XW9S2"
      },
      "execution_count": null,
      "outputs": []
    },
    {
      "cell_type": "code",
      "source": [],
      "metadata": {
        "id": "B06SHJg7W9V_"
      },
      "execution_count": null,
      "outputs": []
    },
    {
      "cell_type": "code",
      "source": [],
      "metadata": {
        "id": "OIHWirwfW9ZT"
      },
      "execution_count": null,
      "outputs": []
    },
    {
      "cell_type": "code",
      "source": [],
      "metadata": {
        "id": "NyI1rMUSW9cu"
      },
      "execution_count": null,
      "outputs": []
    },
    {
      "cell_type": "code",
      "source": [],
      "metadata": {
        "id": "AnQlH2deW9f9"
      },
      "execution_count": null,
      "outputs": []
    },
    {
      "cell_type": "code",
      "source": [],
      "metadata": {
        "id": "zUkY-qgQW9jG"
      },
      "execution_count": null,
      "outputs": []
    },
    {
      "cell_type": "code",
      "source": [],
      "metadata": {
        "id": "okFpSLW9W9mc"
      },
      "execution_count": null,
      "outputs": []
    },
    {
      "cell_type": "code",
      "source": [],
      "metadata": {
        "id": "YkvzDb2wW9pq"
      },
      "execution_count": null,
      "outputs": []
    },
    {
      "cell_type": "code",
      "source": [],
      "metadata": {
        "id": "RtHBUpuLW9s1"
      },
      "execution_count": null,
      "outputs": []
    }
  ]
}